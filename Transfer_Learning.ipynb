{
 "cells": [
  {
   "cell_type": "markdown",
   "metadata": {},
   "source": [
    "# MRI Classification Using PyTorch\n",
    "This notebook demonstrates how to load an MRI dataset, split it into training and validation sets, define a custom CNN model, and train the model using PyTorch."
   ]
  },
  {
   "cell_type": "code",
   "execution_count": 1,
   "metadata": {},
   "outputs": [],
   "source": [
    "import torch\n",
    "import torchvision.transforms as transforms\n",
    "from torchvision.datasets import ImageFolder\n",
    "from torch.utils.data import DataLoader, random_split\n",
    "import torch.nn as nn\n",
    "import torch.nn.functional as F\n",
    "import torch.optim as optim"
   ]
  },
  {
   "cell_type": "markdown",
   "metadata": {},
   "source": [
    "## Data Preparation\n",
    "Load the dataset and split it into training and validation sets. We will apply data augmentations to the training set."
   ]
  },
  {
   "cell_type": "code",
   "execution_count": null,
   "metadata": {},
   "outputs": [],
   "source": [
    "# Define transformations for training and validation sets\n",
    "transform_train = transforms.Compose([\n",
    "    transforms.Resize((224, 224)),\n",
    "    transforms.RandomHorizontalFlip(),\n",
    "    transforms.RandomRotation(10),\n",
    "    transforms.ToTensor(),\n",
    "    transforms.Normalize(mean=[0.485, 0.456, 0.406], std=[0.229, 0.224, 0.225]),\n",
    "])\n",
    "\n",
    "transform_val = transforms.Compose([\n",
    "    transforms.Resize((224, 224)),\n",
    "    transforms.ToTensor(),\n",
    "    transforms.Normalize(mean=[0.485, 0.456, 0.406], std=[0.229, 0.224, 0.225]),\n",
    "])\n",
    "\n",
    "# Load the dataset\n",
    "dataset = ImageFolder(root='dataset_13', transform=transform_train)\n",
    "\n",
    "# Split the dataset into training and validation sets\n",
    "train_size = int(0.8 * len(dataset))  # 80% training\n",
    "val_size = len(dataset) - train_size  # 20% validation\n",
    "train_dataset, val_dataset = random_split(dataset, [train_size, val_size])\n",
    "\n",
    "# Apply validation transformations to the validation set\n",
    "val_dataset.dataset.transform = transform_val\n",
    "\n",
    "# Data loaders\n",
    "train_loader = DataLoader(train_dataset, batch_size=32, shuffle=True, num_workers=4)\n",
    "val_loader = DataLoader(val_dataset, batch_size=32, shuffle=False, num_workers=4)"
   ]
  },
  {
   "cell_type": "markdown",
   "metadata": {},
   "source": [
    "## Transfer Learning\n",
    "\n",
    "Pre-trained models are typically trained on large datasets, such as ImageNet, which contains millions of images and thousands of classes. Transfer learning leverages this prior knowledge to benefit a new, often smaller dataset."
   ]
  },
  {
   "cell_type": "code",
   "execution_count": 3,
   "metadata": {},
   "outputs": [
    {
     "name": "stdout",
     "output_type": "stream",
     "text": [
      "Train - Epoch 1/10, Loss: 1.3653, Accuracy: 0.3802\n",
      "Validation - Epoch 1/10, Loss: 1.1713, Accuracy: 0.5312\n",
      "Train - Epoch 2/10, Loss: 0.9598, Accuracy: 0.6667\n",
      "Validation - Epoch 2/10, Loss: 1.0653, Accuracy: 0.5000\n",
      "Train - Epoch 3/10, Loss: 0.8083, Accuracy: 0.7188\n",
      "Validation - Epoch 3/10, Loss: 0.7345, Accuracy: 0.8229\n",
      "Train - Epoch 4/10, Loss: 0.6856, Accuracy: 0.7917\n",
      "Validation - Epoch 4/10, Loss: 0.6668, Accuracy: 0.8333\n",
      "Train - Epoch 5/10, Loss: 0.5995, Accuracy: 0.8047\n",
      "Validation - Epoch 5/10, Loss: 0.6560, Accuracy: 0.7812\n",
      "Train - Epoch 6/10, Loss: 0.4872, Accuracy: 0.8750\n",
      "Validation - Epoch 6/10, Loss: 0.6042, Accuracy: 0.8125\n",
      "Train - Epoch 7/10, Loss: 0.4486, Accuracy: 0.8776\n",
      "Validation - Epoch 7/10, Loss: 0.5625, Accuracy: 0.8229\n",
      "Train - Epoch 8/10, Loss: 0.4281, Accuracy: 0.8854\n",
      "Validation - Epoch 8/10, Loss: 0.5266, Accuracy: 0.8229\n",
      "Train - Epoch 9/10, Loss: 0.4103, Accuracy: 0.8906\n",
      "Validation - Epoch 9/10, Loss: 0.5125, Accuracy: 0.8125\n",
      "Train - Epoch 10/10, Loss: 0.3904, Accuracy: 0.8906\n"
     ]
    }
   ],
   "source": [
    "import torchvision.models as models\n",
    "\n",
    "# Number of classes in your dataset\n",
    "num_classes = 4  # glioma, meningioma, notumor, pituitary\n",
    "\n",
    "# Load a pre-trained ResNet model\n",
    "model = models.resnet50(weights=models.ResNet50_Weights.IMAGENET1K_V1)\n",
    "\n",
    "# Replace the final fully connected layer\n",
    "num_features = model.fc.in_features\n",
    "model.fc = nn.Linear(num_features, num_classes)  # num_classes is the number of classes in your dataset\n",
    "\n",
    "# Move the model to the GPU if available\n",
    "device = torch.device('cuda' if torch.cuda.is_available() else 'cpu')\n",
    "model = model.to(device)\n",
    "\n",
    "# Define loss function and optimizer\n",
    "criterion = nn.CrossEntropyLoss()\n",
    "optimizer = torch.optim.Adam(model.parameters(), lr=0.001)\n",
    "\n",
    "# Optionally, freeze all layers except the final layer if needed\n",
    "for param in model.parameters():\n",
    "    param.requires_grad = False\n",
    "\n",
    "# Unfreeze the final layer\n",
    "for param in model.fc.parameters():\n",
    "    param.requires_grad = True\n",
    "\n",
    "# Training and evaluation\n",
    "num_epochs = 10  # Define the number of epochs\n",
    "best_val_loss = float('inf')\n",
    "\n",
    "for epoch in range(num_epochs):\n",
    "    model.train()\n",
    "    running_loss = 0.0\n",
    "    running_corrects = 0\n",
    "    \n",
    "    # Training phase\n",
    "    for inputs, labels in train_loader:\n",
    "        inputs, labels = inputs.to(device), labels.to(device)\n",
    "\n",
    "        optimizer.zero_grad()\n",
    "        outputs = model(inputs)\n",
    "        loss = criterion(outputs, labels)\n",
    "        loss.backward()\n",
    "        optimizer.step()\n",
    "\n",
    "        _, preds = torch.max(outputs, 1)\n",
    "        running_loss += loss.item() * inputs.size(0)\n",
    "        running_corrects += torch.sum(preds == labels.data)\n",
    "    \n",
    "    epoch_loss = running_loss / len(train_loader.dataset)\n",
    "    epoch_acc = running_corrects.double() / len(train_loader.dataset)\n",
    "    \n",
    "    print(f'Train - Epoch {epoch + 1}/{num_epochs}, Loss: {epoch_loss:.4f}, Accuracy: {epoch_acc:.4f}')\n",
    "    \n",
    "    # Validation phase\n",
    "    model.eval()\n",
    "    val_loss = 0.0\n",
    "    val_corrects = 0\n",
    "    \n",
    "    with torch.no_grad():\n",
    "        for inputs, labels in val_loader:\n",
    "            inputs, labels = inputs.to(device), labels.to(device)\n",
    "            outputs = model(inputs)\n",
    "            loss = criterion(outputs, labels)\n",
    "            _, preds = torch.max(outputs, 1)\n",
    "            val_loss += loss.item() * inputs.size(0)\n",
    "            val_corrects += torch.sum(preds == labels.data)\n",
    "    \n",
    "    val_loss /= len(val_loader.dataset)\n",
    "    val_acc = val_corrects.double() / len(val_loader.dataset)\n",
    "    \n",
    "    print(f'Validation - Epoch {epoch + 1}/{num_epochs}, Loss: {val_loss:.4f}, Accuracy: {val_acc:.4f}')\n",
    "\n",
    "print('Training complete')"
   ]
  },
  {
   "cell_type": "code",
   "execution_count": null,
   "metadata": {},
   "outputs": [
    {
     "name": "stdout",
     "output_type": "stream",
     "text": [
      "Final Validation Loss: 0.4912, Final Validation Accuracy: 0.8333\n"
     ]
    }
   ],
   "source": [
    "model.eval()\n",
    "val_loss = 0.0\n",
    "val_corrects = 0\n",
    "\n",
    "with torch.no_grad():\n",
    "    for inputs, labels in val_loader:\n",
    "        inputs = inputs.to(device)\n",
    "        labels = labels.to(device)\n",
    "        \n",
    "        outputs = model(inputs)\n",
    "        loss = criterion(outputs, labels)\n",
    "        \n",
    "        _, preds = torch.max(outputs, 1)\n",
    "        val_loss += loss.item() * inputs.size(0)\n",
    "        val_corrects += torch.sum(preds == labels.data)\n",
    "\n",
    "val_loss /= len(val_dataset)\n",
    "val_acc = val_corrects.double() / len(val_dataset)\n",
    "\n",
    "print(f'Final Validation Loss: {val_loss:.4f}, Final Validation Accuracy: {val_acc:.4f}')"
   ]
  }
 ],
 "metadata": {
  "kernelspec": {
   "display_name": "Python 3",
   "language": "python",
   "name": "python3"
  },
  "language_info": {
   "codemirror_mode": {
    "name": "ipython",
    "version": 3
   },
   "file_extension": ".py",
   "mimetype": "text/x-python",
   "name": "python",
   "nbconvert_exporter": "python",
   "pygments_lexer": "ipython3",
   "version": "3.9.19"
  }
 },
 "nbformat": 4,
 "nbformat_minor": 4
}
